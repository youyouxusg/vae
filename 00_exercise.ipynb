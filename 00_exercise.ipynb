{
 "cells": [
  {
   "cell_type": "markdown",
   "id": "59b1a097",
   "metadata": {},
   "source": [
    "### Exercise 00:\n",
    "\n",
    "Trading latent factor portfolios: PCA (Interpreting Factor Models, Excercise 1) and others: PPCA, VAE."
   ]
  },
  {
   "cell_type": "code",
   "execution_count": 3,
   "id": "cfda296d",
   "metadata": {},
   "outputs": [],
   "source": [
    "from load_portfolios import *"
   ]
  },
  {
   "cell_type": "code",
   "execution_count": null,
   "id": "ac35b962",
   "metadata": {},
   "outputs": [],
   "source": [
    "filename = './data/managed_portfolios_anom_d_55.csv'\n",
    "dropna_perc = 0.5 # could be 1, which leads to 41; if 0.5, leads to 55 (all)\n",
    "dates_anomaly, re_anomaly, mkt_anomaly, names_anomaly = load_managed_portfolios(filename, drop_perc=dropna_perc)\n",
    "\n",
    "tT0 = '2019-01-01'\n",
    "# to strftime\n",
    "tT0 = pd.to_datetime(tT0)\n",
    "freq = 252 # daily freq\n",
    "\n",
    "re_anomaly.index = dates_anomaly.values\n",
    "mkt_anomaly.index = dates_anomaly.values\n",
    "mkt0 = mkt_anomaly.copy()"
   ]
  }
 ],
 "metadata": {
  "kernelspec": {
   "display_name": "myenv",
   "language": "python",
   "name": "python3"
  },
  "language_info": {
   "codemirror_mode": {
    "name": "ipython",
    "version": 3
   },
   "file_extension": ".py",
   "mimetype": "text/x-python",
   "name": "python",
   "nbconvert_exporter": "python",
   "pygments_lexer": "ipython3",
   "version": "3.10.18"
  }
 },
 "nbformat": 4,
 "nbformat_minor": 5
}
