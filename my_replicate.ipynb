{
 "cells": [
  {
   "cell_type": "code",
   "execution_count": 1,
   "id": "2aaf8676",
   "metadata": {},
   "outputs": [],
   "source": [
    "from load_portfolios import *\n",
    "import os\n",
    "import pandas as pd\n",
    "import numpy as np"
   ]
  },
  {
   "cell_type": "code",
   "execution_count": 2,
   "id": "281c13e7",
   "metadata": {},
   "outputs": [],
   "source": [
    "# the code to load portfolio\n",
    "filename = './Daily/managed_portfolios_anom_d_55.csv'\n",
    "dropna_perc = 0.2 # could be 1, which leads to 41; if 0.5, leads to 55 (all)\n",
    "dates_anomaly, re_anomaly, mkt_anomaly, names_anomaly = load_managed_portfolios(filename, drop_perc=dropna_perc)"
   ]
  },
  {
   "cell_type": "code",
   "execution_count": 4,
   "id": "3f05a9f8",
   "metadata": {},
   "outputs": [
    {
     "name": "stdout",
     "output_type": "stream",
     "text": [
      "1979-07-02 00:00:00 2019-12-31 00:00:00\n"
     ]
    }
   ],
   "source": [
    "# print the first and last of dates_anomaly\n",
    "print(dates_anomaly.iloc[0], dates_anomaly.iloc[-1])"
   ]
  },
  {
   "cell_type": "markdown",
   "id": "d9720434",
   "metadata": {},
   "source": [
    "#### The In-Sample Version (Replication)\n",
    "- Full data, no train/test split, full data (no PCA transformation)"
   ]
  },
  {
   "cell_type": "code",
   "execution_count": 30,
   "id": "7dd0ac04",
   "metadata": {},
   "outputs": [],
   "source": [
    "tT0 = '2019-01-01'\n",
    "# to strftime\n",
    "tT0 = pd.to_datetime(tT0)\n",
    "freq = 252 # daily freq\n",
    "\n",
    "re_anomaly.index = dates_anomaly.values\n",
    "mkt_anomaly.index = dates_anomaly.values\n",
    "mkt0 = mkt_anomaly.copy()"
   ]
  },
  {
   "cell_type": "code",
   "execution_count": 31,
   "id": "55d39067",
   "metadata": {},
   "outputs": [],
   "source": [
    "def demarket(r, mkt, b=None):\n",
    "    if b is None:\n",
    "        # Compute beta_i = Cov(r_i, mkt) / Var(mkt) for each asset\n",
    "        cov = mkt.T @ r / len(mkt) - mkt.mean() * r.mean(axis=0)\n",
    "        var = mkt.var()\n",
    "        b = cov / var\n",
    "    # Residuals\n",
    "    rme = r - np.outer(mkt, b)\n",
    "    return rme, b"
   ]
  },
  {
   "cell_type": "code",
   "execution_count": 32,
   "id": "631b11ce",
   "metadata": {},
   "outputs": [],
   "source": [
    "r0, _ = demarket(re_anomaly.loc[:tT0, :], mkt0.loc[:tT0])\n",
    "r0 = r0.divide(r0.std(axis=0), axis=1).multiply(mkt0.std())\n",
    "T, n = r0.shape\n",
    "y = np.mean(r0, axis=0)"
   ]
  },
  {
   "cell_type": "code",
   "execution_count": null,
   "id": "10b5fc00",
   "metadata": {},
   "outputs": [],
   "source": [
    "def regcov_inv(r):\n",
    "    T, n = r.shape\n",
    "    X = np.cov(r, rowvar=False)\n",
    "    a = n / (n + T)\n",
    "    X_reg = (1 - a) * X + a * (np.trace(X) / n) * np.eye(n)\n",
    "    return X_reg, np.linalg.pinv(X_reg)\n",
    "\n",
    "def get_penalty(kappa, T, X, freq):\n",
    "    total_var = np.trace(X)\n",
    "    return freq * total_var / (T * kappa**2)"
   ]
  },
  {
   "cell_type": "code",
   "execution_count": 38,
   "id": "407b06f5",
   "metadata": {},
   "outputs": [],
   "source": [
    "def l2est(X, y, l):\n",
    "    A = X + l * np.eye(X.shape[0])\n",
    "    return np.linalg.solve(A, y)\n",
    "\n",
    "def l2est_se(X, y, l):\n",
    "    A = X + l * np.eye(X.shape[0])\n",
    "    Ainv = np.linalg.inv(A)\n",
    "    b = Ainv @ y\n",
    "    se = np.sqrt(np.diag(Ainv) / X.shape[0])\n",
    "    return b, se"
   ]
  },
  {
   "cell_type": "code",
   "execution_count": 41,
   "id": "3992b7c8",
   "metadata": {},
   "outputs": [],
   "source": [
    "X, Xinv = regcov_inv(r0)"
   ]
  },
  {
   "cell_type": "code",
   "execution_count": 47,
   "id": "d912150e",
   "metadata": {},
   "outputs": [],
   "source": [
    "lr = np.arange(1, 26)   # [1, 2, ..., 25]\n",
    "lm = 1\n",
    "\n",
    "z = np.column_stack([\n",
    "    l2est(X, y, get_penalty(2**(i - lm), T, X, freq)) for i in lr\n",
    "])"
   ]
  },
  {
   "cell_type": "code",
   "execution_count": 64,
   "id": "b25ca265",
   "metadata": {},
   "outputs": [],
   "source": [
    "gridsize = 50\n",
    "kfold = 3"
   ]
  },
  {
   "cell_type": "code",
   "execution_count": 65,
   "id": "80ca4e1a",
   "metadata": {},
   "outputs": [],
   "source": [
    "# 1. Identify region where coefficients still change\n",
    "unstable = np.mean(\n",
    "    np.abs(z[:, 1:] - z[:, :-1]) / (1 + np.abs(z[:, :-1])),\n",
    "    axis=0\n",
    ") > 0.1\n",
    "rlim = np.nonzero(unstable)[0]\n",
    "\n",
    "# 2. Build log grid of kappa values in this region\n",
    "kappa_grid = np.logspace(\n",
    "    np.log10(2**rlim[-1]),   # last unstable point\n",
    "    np.log10(0.01),          # lower bound\n",
    "    gridsize,                \n",
    ")\n",
    "\n",
    "# 3. Convert to penalties\n",
    "penalties = [get_penalty(k, T, X, freq) for k in kappa_grid]\n",
    "penalties_cv = [p / (1 - 1/kfold) for p in penalties]"
   ]
  },
  {
   "cell_type": "code",
   "execution_count": 66,
   "id": "d4f31b9b",
   "metadata": {},
   "outputs": [
    {
     "data": {
      "text/plain": [
       "[3.713669637018798e-06,\n",
       " 4.8786171229373566e-06,\n",
       " 6.408999011372507e-06,\n",
       " 8.41944905548211e-06,\n",
       " 1.106056066978201e-05,\n",
       " 1.4530167178845613e-05,\n",
       " 1.908816058683245e-05,\n",
       " 2.507595887259785e-05,\n",
       " 3.2942080014455935e-05,\n",
       " 4.327573837523979e-05,\n",
       " 5.685097999580986e-05,\n",
       " 7.468466276552729e-05,\n",
       " 9.811262449322152e-05,\n",
       " 0.00012888974427278346,\n",
       " 0.00016932139227252317,\n",
       " 0.00022243611423752044,\n",
       " 0.0002922124856937898,\n",
       " 0.0003838771284422128,\n",
       " 0.0005042962123646545,\n",
       " 0.0006624897681124039,\n",
       " 0.0008703073354361517,\n",
       " 0.0011433155568154555,\n",
       " 0.0015019642018772013,\n",
       " 0.0019731179640414443,\n",
       " 0.002592068769120608,\n",
       " 0.0034051793285022726,\n",
       " 0.004473355953126596,\n",
       " 0.005876610760518945,\n",
       " 0.007720055008479621,\n",
       " 0.010141772488040057,\n",
       " 0.013323162734746187,\n",
       " 0.017502528819874286,\n",
       " 0.0229929275195006,\n",
       " 0.030205618934144696,\n",
       " 0.03968087206037417,\n",
       " 0.052128433815732005,\n",
       " 0.06848069286246246,\n",
       " 0.08996252048354512,\n",
       " 0.11818301996457448,\n",
       " 0.15525605699877754,\n",
       " 0.20395859948436765,\n",
       " 0.2679387272082552,\n",
       " 0.35198889244913684,\n",
       " 0.46240490017432895,\n",
       " 0.6074574973587505,\n",
       " 0.7980118959774013,\n",
       " 1.0483416352425927,\n",
       " 1.377197745701571,\n",
       " 1.809213301279015,\n",
       " 2.3767485676920304]"
      ]
     },
     "execution_count": 66,
     "metadata": {},
     "output_type": "execute_result"
    }
   ],
   "source": [
    "penalties_cv"
   ]
  }
 ],
 "metadata": {
  "kernelspec": {
   "display_name": "base",
   "language": "python",
   "name": "python3"
  },
  "language_info": {
   "codemirror_mode": {
    "name": "ipython",
    "version": 3
   },
   "file_extension": ".py",
   "mimetype": "text/x-python",
   "name": "python",
   "nbconvert_exporter": "python",
   "pygments_lexer": "ipython3",
   "version": "3.10.11"
  }
 },
 "nbformat": 4,
 "nbformat_minor": 5
}
